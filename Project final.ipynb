{
 "cells": [
  {
   "cell_type": "markdown",
   "id": "355b9e0b",
   "metadata": {},
   "source": [
    "## Data Cookbook"
   ]
  },
  {
   "cell_type": "code",
   "execution_count": 2,
   "id": "65280fd3",
   "metadata": {},
   "outputs": [],
   "source": [
    "import pandas as pd\n",
    "import numpy as np\n",
    "from matplotlib import pyplot as plt"
   ]
  },
  {
   "cell_type": "code",
   "execution_count": 3,
   "id": "cd9af502",
   "metadata": {},
   "outputs": [
    {
     "data": {
      "text/html": [
       "<div>\n",
       "<style scoped>\n",
       "    .dataframe tbody tr th:only-of-type {\n",
       "        vertical-align: middle;\n",
       "    }\n",
       "\n",
       "    .dataframe tbody tr th {\n",
       "        vertical-align: top;\n",
       "    }\n",
       "\n",
       "    .dataframe thead th {\n",
       "        text-align: right;\n",
       "    }\n",
       "</style>\n",
       "<table border=\"1\" class=\"dataframe\">\n",
       "  <thead>\n",
       "    <tr style=\"text-align: right;\">\n",
       "      <th></th>\n",
       "      <th>Unnamed: 0</th>\n",
       "      <th>file</th>\n",
       "      <th>map</th>\n",
       "      <th>round</th>\n",
       "      <th>start_seconds</th>\n",
       "      <th>end_seconds</th>\n",
       "      <th>winner_team</th>\n",
       "      <th>winner_side</th>\n",
       "      <th>round_type</th>\n",
       "      <th>ct_eq_val</th>\n",
       "      <th>t_eq_val</th>\n",
       "    </tr>\n",
       "  </thead>\n",
       "  <tbody>\n",
       "    <tr>\n",
       "      <th>0</th>\n",
       "      <td>0</td>\n",
       "      <td>esea_match_13770997.dem</td>\n",
       "      <td>de_overpass</td>\n",
       "      <td>1</td>\n",
       "      <td>94.30782</td>\n",
       "      <td>160.9591</td>\n",
       "      <td>Hentai Hooligans</td>\n",
       "      <td>Terrorist</td>\n",
       "      <td>PISTOL_ROUND</td>\n",
       "      <td>4300</td>\n",
       "      <td>4250</td>\n",
       "    </tr>\n",
       "    <tr>\n",
       "      <th>1</th>\n",
       "      <td>1</td>\n",
       "      <td>esea_match_13770997.dem</td>\n",
       "      <td>de_overpass</td>\n",
       "      <td>2</td>\n",
       "      <td>160.95910</td>\n",
       "      <td>279.3998</td>\n",
       "      <td>Hentai Hooligans</td>\n",
       "      <td>Terrorist</td>\n",
       "      <td>ECO</td>\n",
       "      <td>6300</td>\n",
       "      <td>19400</td>\n",
       "    </tr>\n",
       "    <tr>\n",
       "      <th>2</th>\n",
       "      <td>2</td>\n",
       "      <td>esea_match_13770997.dem</td>\n",
       "      <td>de_overpass</td>\n",
       "      <td>3</td>\n",
       "      <td>279.39980</td>\n",
       "      <td>341.0084</td>\n",
       "      <td>Hentai Hooligans</td>\n",
       "      <td>Terrorist</td>\n",
       "      <td>SEMI_ECO</td>\n",
       "      <td>7650</td>\n",
       "      <td>19250</td>\n",
       "    </tr>\n",
       "    <tr>\n",
       "      <th>3</th>\n",
       "      <td>3</td>\n",
       "      <td>esea_match_13770997.dem</td>\n",
       "      <td>de_overpass</td>\n",
       "      <td>4</td>\n",
       "      <td>341.00840</td>\n",
       "      <td>435.4259</td>\n",
       "      <td>Hentai Hooligans</td>\n",
       "      <td>Terrorist</td>\n",
       "      <td>NORMAL</td>\n",
       "      <td>24900</td>\n",
       "      <td>23400</td>\n",
       "    </tr>\n",
       "    <tr>\n",
       "      <th>4</th>\n",
       "      <td>4</td>\n",
       "      <td>esea_match_13770997.dem</td>\n",
       "      <td>de_overpass</td>\n",
       "      <td>5</td>\n",
       "      <td>435.42590</td>\n",
       "      <td>484.2398</td>\n",
       "      <td>Animal Style</td>\n",
       "      <td>CounterTerrorist</td>\n",
       "      <td>ECO</td>\n",
       "      <td>5400</td>\n",
       "      <td>20550</td>\n",
       "    </tr>\n",
       "    <tr>\n",
       "      <th>...</th>\n",
       "      <td>...</td>\n",
       "      <td>...</td>\n",
       "      <td>...</td>\n",
       "      <td>...</td>\n",
       "      <td>...</td>\n",
       "      <td>...</td>\n",
       "      <td>...</td>\n",
       "      <td>...</td>\n",
       "      <td>...</td>\n",
       "      <td>...</td>\n",
       "      <td>...</td>\n",
       "    </tr>\n",
       "    <tr>\n",
       "      <th>80</th>\n",
       "      <td>80</td>\n",
       "      <td>esea_match_13779769.dem</td>\n",
       "      <td>de_inferno</td>\n",
       "      <td>18</td>\n",
       "      <td>2207.24300</td>\n",
       "      <td>2320.0340</td>\n",
       "      <td>Team 1</td>\n",
       "      <td>Terrorist</td>\n",
       "      <td>ECO</td>\n",
       "      <td>26550</td>\n",
       "      <td>6800</td>\n",
       "    </tr>\n",
       "    <tr>\n",
       "      <th>81</th>\n",
       "      <td>81</td>\n",
       "      <td>esea_match_13779769.dem</td>\n",
       "      <td>de_inferno</td>\n",
       "      <td>19</td>\n",
       "      <td>2320.03400</td>\n",
       "      <td>2388.8280</td>\n",
       "      <td>Team 1</td>\n",
       "      <td>Terrorist</td>\n",
       "      <td>NORMAL</td>\n",
       "      <td>18300</td>\n",
       "      <td>25850</td>\n",
       "    </tr>\n",
       "    <tr>\n",
       "      <th>82</th>\n",
       "      <td>82</td>\n",
       "      <td>esea_match_13779769.dem</td>\n",
       "      <td>de_inferno</td>\n",
       "      <td>20</td>\n",
       "      <td>2388.82800</td>\n",
       "      <td>2499.6160</td>\n",
       "      <td>Team 1</td>\n",
       "      <td>Terrorist</td>\n",
       "      <td>ECO</td>\n",
       "      <td>5950</td>\n",
       "      <td>25400</td>\n",
       "    </tr>\n",
       "    <tr>\n",
       "      <th>83</th>\n",
       "      <td>83</td>\n",
       "      <td>esea_match_13779769.dem</td>\n",
       "      <td>de_inferno</td>\n",
       "      <td>21</td>\n",
       "      <td>2499.61600</td>\n",
       "      <td>2669.6070</td>\n",
       "      <td>Team 2</td>\n",
       "      <td>CounterTerrorist</td>\n",
       "      <td>NORMAL</td>\n",
       "      <td>19000</td>\n",
       "      <td>25600</td>\n",
       "    </tr>\n",
       "    <tr>\n",
       "      <th>84</th>\n",
       "      <td>84</td>\n",
       "      <td>esea_match_13779769.dem</td>\n",
       "      <td>de_inferno</td>\n",
       "      <td>22</td>\n",
       "      <td>2669.60700</td>\n",
       "      <td>2762.3240</td>\n",
       "      <td>Team 1</td>\n",
       "      <td>Terrorist</td>\n",
       "      <td>NORMAL</td>\n",
       "      <td>19850</td>\n",
       "      <td>22650</td>\n",
       "    </tr>\n",
       "  </tbody>\n",
       "</table>\n",
       "<p>85 rows × 11 columns</p>\n",
       "</div>"
      ],
      "text/plain": [
       "    Unnamed: 0                     file          map  round  start_seconds  \\\n",
       "0            0  esea_match_13770997.dem  de_overpass      1       94.30782   \n",
       "1            1  esea_match_13770997.dem  de_overpass      2      160.95910   \n",
       "2            2  esea_match_13770997.dem  de_overpass      3      279.39980   \n",
       "3            3  esea_match_13770997.dem  de_overpass      4      341.00840   \n",
       "4            4  esea_match_13770997.dem  de_overpass      5      435.42590   \n",
       "..         ...                      ...          ...    ...            ...   \n",
       "80          80  esea_match_13779769.dem   de_inferno     18     2207.24300   \n",
       "81          81  esea_match_13779769.dem   de_inferno     19     2320.03400   \n",
       "82          82  esea_match_13779769.dem   de_inferno     20     2388.82800   \n",
       "83          83  esea_match_13779769.dem   de_inferno     21     2499.61600   \n",
       "84          84  esea_match_13779769.dem   de_inferno     22     2669.60700   \n",
       "\n",
       "    end_seconds       winner_team       winner_side    round_type  ct_eq_val  \\\n",
       "0      160.9591  Hentai Hooligans         Terrorist  PISTOL_ROUND       4300   \n",
       "1      279.3998  Hentai Hooligans         Terrorist           ECO       6300   \n",
       "2      341.0084  Hentai Hooligans         Terrorist      SEMI_ECO       7650   \n",
       "3      435.4259  Hentai Hooligans         Terrorist        NORMAL      24900   \n",
       "4      484.2398      Animal Style  CounterTerrorist           ECO       5400   \n",
       "..          ...               ...               ...           ...        ...   \n",
       "80    2320.0340            Team 1         Terrorist           ECO      26550   \n",
       "81    2388.8280            Team 1         Terrorist        NORMAL      18300   \n",
       "82    2499.6160            Team 1         Terrorist           ECO       5950   \n",
       "83    2669.6070            Team 2  CounterTerrorist        NORMAL      19000   \n",
       "84    2762.3240            Team 1         Terrorist        NORMAL      19850   \n",
       "\n",
       "    t_eq_val  \n",
       "0       4250  \n",
       "1      19400  \n",
       "2      19250  \n",
       "3      23400  \n",
       "4      20550  \n",
       "..       ...  \n",
       "80      6800  \n",
       "81     25850  \n",
       "82     25400  \n",
       "83     25600  \n",
       "84     22650  \n",
       "\n",
       "[85 rows x 11 columns]"
      ]
     },
     "execution_count": 3,
     "metadata": {},
     "output_type": "execute_result"
    }
   ],
   "source": [
    "csgo_data = pd.read_csv(\"csgo_data.csv\")\n",
    "csgo_data"
   ]
  },
  {
   "cell_type": "markdown",
   "id": "009280ad",
   "metadata": {},
   "source": [
    "## Using value_counts()"
   ]
  },
  {
   "cell_type": "markdown",
   "id": "a82c7bf4",
   "metadata": {},
   "source": [
    "How to use value_counts() to return the number of times a certain value appears in a column of the dataset. This is useful for generating categorical data that can then be displayed in a barchart."
   ]
  },
  {
   "cell_type": "code",
   "execution_count": 4,
   "id": "efb01419",
   "metadata": {},
   "outputs": [
    {
     "data": {
      "text/plain": [
       "NORMAL          40\n",
       "ECO             23\n",
       "FORCE_BUY        9\n",
       "SEMI_ECO         7\n",
       "PISTOL_ROUND     6\n",
       "Name: round_type, dtype: int64"
      ]
     },
     "execution_count": 4,
     "metadata": {},
     "output_type": "execute_result"
    }
   ],
   "source": [
    "round_types = csgo_data[\"round_type\"].value_counts()\n",
    "round_types"
   ]
  },
  {
   "cell_type": "markdown",
   "id": "2fd08f6f",
   "metadata": {},
   "source": [
    "## Plotting data"
   ]
  },
  {
   "cell_type": "markdown",
   "id": "6831f539",
   "metadata": {},
   "source": [
    "Now we can make a barchart using matplotlib"
   ]
  },
  {
   "cell_type": "code",
   "execution_count": 5,
   "id": "77d8d106",
   "metadata": {},
   "outputs": [
    {
     "data": {
      "text/plain": [
       "<AxesSubplot:>"
      ]
     },
     "execution_count": 5,
     "metadata": {},
     "output_type": "execute_result"
    },
    {
     "data": {
      "image/png": "[encoded data removed]",
      "text/plain": [
       "<Figure size 640x480 with 1 Axes>"
      ]
     },
     "metadata": {},
     "output_type": "display_data"
    }
   ],
   "source": [
    "round_types.plot.bar()"
   ]
  },
  {
   "cell_type": "markdown",
   "id": "4ef179b6",
   "metadata": {},
   "source": [
    "Let's make it a little more interesting by adding a title, y axis label, and giving each column a distinct color."
   ]
  },
  {
   "cell_type": "code",
   "execution_count": 6,
   "id": "1d1fb9a7",
   "metadata": {
    "scrolled": true
   },
   "outputs": [
    {
     "data": {
      "text/plain": [
       "<AxesSubplot:title={'center':'Round Types in CS:GO'}, ylabel='Number of Rounds'>"
      ]
     },
     "execution_count": 6,
     "metadata": {},
     "output_type": "execute_result"
    },
    {
     "data": {
      "image/png": "[encoded data removed]",
      "text/plain": [
       "<Figure size 640x480 with 1 Axes>"
      ]
     },
     "metadata": {},
     "output_type": "display_data"
    }
   ],
   "source": [
    "round_types.plot.bar(title=\"Round Types in CS:GO\", ylabel=\"Number of Rounds\", color=[\"blue\",\"green\",\"orange\",\"gold\",\"red\"])"
   ]
  },
  {
   "cell_type": "markdown",
   "id": "5abbe3a6",
   "metadata": {},
   "source": [
    "We can also create this plot using matplotlib"
   ]
  },
  {
   "cell_type": "code",
   "execution_count": 7,
   "id": "8a8766d1",
   "metadata": {},
   "outputs": [
    {
     "data": {
      "text/plain": [
       "Text(0, 0.5, 'Number of Rounds')"
      ]
     },
     "execution_count": 7,
     "metadata": {},
     "output_type": "execute_result"
    },
    {
     "data": {
      "image/png": "[encoded data removed]",
      "text/plain": [
       "<Figure size 640x480 with 1 Axes>"
      ]
     },
     "metadata": {},
     "output_type": "display_data"
    }
   ],
   "source": [
    "plt.bar(round_types.keys(),round_types.values, color=[\"blue\",\"green\",\"orange\",\"gold\",\"red\"])\n",
    "plt.title(\"Round Types in CS:GO\")\n",
    "plt.ylabel(\"Number of Rounds\")"
   ]
  },
  {
   "cell_type": "markdown",
   "id": "08901862",
   "metadata": {},
   "source": [
    "## Adding a new column"
   ]
  },
  {
   "cell_type": "markdown",
   "id": "55429433",
   "metadata": {},
   "source": [
    "Another useful technique is to create a new column in the dataframe using the information from two or more other columns."
   ]
  },
  {
   "cell_type": "code",
   "execution_count": 8,
   "id": "5e30e3d7",
   "metadata": {},
   "outputs": [
    {
     "data": {
      "text/html": [
       "<div>\n",
       "<style scoped>\n",
       "    .dataframe tbody tr th:only-of-type {\n",
       "        vertical-align: middle;\n",
       "    }\n",
       "\n",
       "    .dataframe tbody tr th {\n",
       "        vertical-align: top;\n",
       "    }\n",
       "\n",
       "    .dataframe thead th {\n",
       "        text-align: right;\n",
       "    }\n",
       "</style>\n",
       "<table border=\"1\" class=\"dataframe\">\n",
       "  <thead>\n",
       "    <tr style=\"text-align: right;\">\n",
       "      <th></th>\n",
       "      <th>Unnamed: 0</th>\n",
       "      <th>file</th>\n",
       "      <th>map</th>\n",
       "      <th>round</th>\n",
       "      <th>start_seconds</th>\n",
       "      <th>end_seconds</th>\n",
       "      <th>winner_team</th>\n",
       "      <th>winner_side</th>\n",
       "      <th>round_type</th>\n",
       "      <th>ct_eq_val</th>\n",
       "      <th>t_eq_val</th>\n",
       "      <th>round length</th>\n",
       "    </tr>\n",
       "  </thead>\n",
       "  <tbody>\n",
       "    <tr>\n",
       "      <th>0</th>\n",
       "      <td>0</td>\n",
       "      <td>esea_match_13770997.dem</td>\n",
       "      <td>de_overpass</td>\n",
       "      <td>1</td>\n",
       "      <td>94.30782</td>\n",
       "      <td>160.9591</td>\n",
       "      <td>Hentai Hooligans</td>\n",
       "      <td>Terrorist</td>\n",
       "      <td>PISTOL_ROUND</td>\n",
       "      <td>4300</td>\n",
       "      <td>4250</td>\n",
       "      <td>66.65128</td>\n",
       "    </tr>\n",
       "    <tr>\n",
       "      <th>1</th>\n",
       "      <td>1</td>\n",
       "      <td>esea_match_13770997.dem</td>\n",
       "      <td>de_overpass</td>\n",
       "      <td>2</td>\n",
       "      <td>160.95910</td>\n",
       "      <td>279.3998</td>\n",
       "      <td>Hentai Hooligans</td>\n",
       "      <td>Terrorist</td>\n",
       "      <td>ECO</td>\n",
       "      <td>6300</td>\n",
       "      <td>19400</td>\n",
       "      <td>118.44070</td>\n",
       "    </tr>\n",
       "    <tr>\n",
       "      <th>2</th>\n",
       "      <td>2</td>\n",
       "      <td>esea_match_13770997.dem</td>\n",
       "      <td>de_overpass</td>\n",
       "      <td>3</td>\n",
       "      <td>279.39980</td>\n",
       "      <td>341.0084</td>\n",
       "      <td>Hentai Hooligans</td>\n",
       "      <td>Terrorist</td>\n",
       "      <td>SEMI_ECO</td>\n",
       "      <td>7650</td>\n",
       "      <td>19250</td>\n",
       "      <td>61.60860</td>\n",
       "    </tr>\n",
       "    <tr>\n",
       "      <th>3</th>\n",
       "      <td>3</td>\n",
       "      <td>esea_match_13770997.dem</td>\n",
       "      <td>de_overpass</td>\n",
       "      <td>4</td>\n",
       "      <td>341.00840</td>\n",
       "      <td>435.4259</td>\n",
       "      <td>Hentai Hooligans</td>\n",
       "      <td>Terrorist</td>\n",
       "      <td>NORMAL</td>\n",
       "      <td>24900</td>\n",
       "      <td>23400</td>\n",
       "      <td>94.41750</td>\n",
       "    </tr>\n",
       "    <tr>\n",
       "      <th>4</th>\n",
       "      <td>4</td>\n",
       "      <td>esea_match_13770997.dem</td>\n",
       "      <td>de_overpass</td>\n",
       "      <td>5</td>\n",
       "      <td>435.42590</td>\n",
       "      <td>484.2398</td>\n",
       "      <td>Animal Style</td>\n",
       "      <td>CounterTerrorist</td>\n",
       "      <td>ECO</td>\n",
       "      <td>5400</td>\n",
       "      <td>20550</td>\n",
       "      <td>48.81390</td>\n",
       "    </tr>\n",
       "    <tr>\n",
       "      <th>...</th>\n",
       "      <td>...</td>\n",
       "      <td>...</td>\n",
       "      <td>...</td>\n",
       "      <td>...</td>\n",
       "      <td>...</td>\n",
       "      <td>...</td>\n",
       "      <td>...</td>\n",
       "      <td>...</td>\n",
       "      <td>...</td>\n",
       "      <td>...</td>\n",
       "      <td>...</td>\n",
       "      <td>...</td>\n",
       "    </tr>\n",
       "    <tr>\n",
       "      <th>80</th>\n",
       "      <td>80</td>\n",
       "      <td>esea_match_13779769.dem</td>\n",
       "      <td>de_inferno</td>\n",
       "      <td>18</td>\n",
       "      <td>2207.24300</td>\n",
       "      <td>2320.0340</td>\n",
       "      <td>Team 1</td>\n",
       "      <td>Terrorist</td>\n",
       "      <td>ECO</td>\n",
       "      <td>26550</td>\n",
       "      <td>6800</td>\n",
       "      <td>112.79100</td>\n",
       "    </tr>\n",
       "    <tr>\n",
       "      <th>81</th>\n",
       "      <td>81</td>\n",
       "      <td>esea_match_13779769.dem</td>\n",
       "      <td>de_inferno</td>\n",
       "      <td>19</td>\n",
       "      <td>2320.03400</td>\n",
       "      <td>2388.8280</td>\n",
       "      <td>Team 1</td>\n",
       "      <td>Terrorist</td>\n",
       "      <td>NORMAL</td>\n",
       "      <td>18300</td>\n",
       "      <td>25850</td>\n",
       "      <td>68.79400</td>\n",
       "    </tr>\n",
       "    <tr>\n",
       "      <th>82</th>\n",
       "      <td>82</td>\n",
       "      <td>esea_match_13779769.dem</td>\n",
       "      <td>de_inferno</td>\n",
       "      <td>20</td>\n",
       "      <td>2388.82800</td>\n",
       "      <td>2499.6160</td>\n",
       "      <td>Team 1</td>\n",
       "      <td>Terrorist</td>\n",
       "      <td>ECO</td>\n",
       "      <td>5950</td>\n",
       "      <td>25400</td>\n",
       "      <td>110.78800</td>\n",
       "    </tr>\n",
       "    <tr>\n",
       "      <th>83</th>\n",
       "      <td>83</td>\n",
       "      <td>esea_match_13779769.dem</td>\n",
       "      <td>de_inferno</td>\n",
       "      <td>21</td>\n",
       "      <td>2499.61600</td>\n",
       "      <td>2669.6070</td>\n",
       "      <td>Team 2</td>\n",
       "      <td>CounterTerrorist</td>\n",
       "      <td>NORMAL</td>\n",
       "      <td>19000</td>\n",
       "      <td>25600</td>\n",
       "      <td>169.99100</td>\n",
       "    </tr>\n",
       "    <tr>\n",
       "      <th>84</th>\n",
       "      <td>84</td>\n",
       "      <td>esea_match_13779769.dem</td>\n",
       "      <td>de_inferno</td>\n",
       "      <td>22</td>\n",
       "      <td>2669.60700</td>\n",
       "      <td>2762.3240</td>\n",
       "      <td>Team 1</td>\n",
       "      <td>Terrorist</td>\n",
       "      <td>NORMAL</td>\n",
       "      <td>19850</td>\n",
       "      <td>22650</td>\n",
       "      <td>92.71700</td>\n",
       "    </tr>\n",
       "  </tbody>\n",
       "</table>\n",
       "<p>85 rows × 12 columns</p>\n",
       "</div>"
      ],
      "text/plain": [
       "    Unnamed: 0                     file          map  round  start_seconds  \\\n",
       "0            0  esea_match_13770997.dem  de_overpass      1       94.30782   \n",
       "1            1  esea_match_13770997.dem  de_overpass      2      160.95910   \n",
       "2            2  esea_match_13770997.dem  de_overpass      3      279.39980   \n",
       "3            3  esea_match_13770997.dem  de_overpass      4      341.00840   \n",
       "4            4  esea_match_13770997.dem  de_overpass      5      435.42590   \n",
       "..         ...                      ...          ...    ...            ...   \n",
       "80          80  esea_match_13779769.dem   de_inferno     18     2207.24300   \n",
       "81          81  esea_match_13779769.dem   de_inferno     19     2320.03400   \n",
       "82          82  esea_match_13779769.dem   de_inferno     20     2388.82800   \n",
       "83          83  esea_match_13779769.dem   de_inferno     21     2499.61600   \n",
       "84          84  esea_match_13779769.dem   de_inferno     22     2669.60700   \n",
       "\n",
       "    end_seconds       winner_team       winner_side    round_type  ct_eq_val  \\\n",
       "0      160.9591  Hentai Hooligans         Terrorist  PISTOL_ROUND       4300   \n",
       "1      279.3998  Hentai Hooligans         Terrorist           ECO       6300   \n",
       "2      341.0084  Hentai Hooligans         Terrorist      SEMI_ECO       7650   \n",
       "3      435.4259  Hentai Hooligans         Terrorist        NORMAL      24900   \n",
       "4      484.2398      Animal Style  CounterTerrorist           ECO       5400   \n",
       "..          ...               ...               ...           ...        ...   \n",
       "80    2320.0340            Team 1         Terrorist           ECO      26550   \n",
       "81    2388.8280            Team 1         Terrorist        NORMAL      18300   \n",
       "82    2499.6160            Team 1         Terrorist           ECO       5950   \n",
       "83    2669.6070            Team 2  CounterTerrorist        NORMAL      19000   \n",
       "84    2762.3240            Team 1         Terrorist        NORMAL      19850   \n",
       "\n",
       "    t_eq_val  round length  \n",
       "0       4250      66.65128  \n",
       "1      19400     118.44070  \n",
       "2      19250      61.60860  \n",
       "3      23400      94.41750  \n",
       "4      20550      48.81390  \n",
       "..       ...           ...  \n",
       "80      6800     112.79100  \n",
       "81     25850      68.79400  \n",
       "82     25400     110.78800  \n",
       "83     25600     169.99100  \n",
       "84     22650      92.71700  \n",
       "\n",
       "[85 rows x 12 columns]"
      ]
     },
     "execution_count": 8,
     "metadata": {},
     "output_type": "execute_result"
    }
   ],
   "source": [
    "csgo_data[\"round length\"] = csgo_data[\"end_seconds\"] - csgo_data[\"start_seconds\"]\n",
    "csgo_data"
   ]
  },
  {
   "cell_type": "markdown",
   "id": "6cd63ea1",
   "metadata": {},
   "source": [
    "## Web APIs"
   ]
  },
  {
   "cell_type": "markdown",
   "id": "138cf515",
   "metadata": {},
   "source": [
    "The web has a lot of imformation that can be accessed through REST APIs. We use the requests package and convert json into a dictionary to be able to access the infromation easier."
   ]
  },
  {
   "cell_type": "code",
   "execution_count": 9,
   "id": "55adf54e",
   "metadata": {},
   "outputs": [],
   "source": [
    "import requests"
   ]
  },
  {
   "cell_type": "code",
   "execution_count": 10,
   "id": "9ea1e1e7",
   "metadata": {},
   "outputs": [
    {
     "name": "stdout",
     "output_type": "stream",
     "text": [
      "The most traveled cat is Hamlet, who escaped from his carrier while on a flight. He hid for seven weeks behind a panel on the airplane. By the time he was discovered, he had traveled nearly 373,000 miles (600,000 km).\n"
     ]
    }
   ],
   "source": [
    "response = requests.get(\"https://catfact.ninja/fact\")\n",
    "data = response.json()\n",
    "print(data[\"fact\"])"
   ]
  },
  {
   "cell_type": "markdown",
   "id": "4f3c442f",
   "metadata": {},
   "source": [
    "## Using Groupby"
   ]
  },
  {
   "cell_type": "markdown",
   "id": "26da9e8c",
   "metadata": {},
   "source": [
    "Before, in the value_counts section, we were able to see the total number of different round types across all games. With groupby, we can now see the number of each round type per game."
   ]
  },
  {
   "cell_type": "code",
   "execution_count": 18,
   "id": "1ec345c6",
   "metadata": {},
   "outputs": [
    {
     "data": {
      "text/plain": [
       "file                     round_type  \n",
       "esea_match_13770997.dem  ECO              9\n",
       "                         FORCE_BUY        2\n",
       "                         NORMAL           9\n",
       "                         PISTOL_ROUND     1\n",
       "                         SEMI_ECO         3\n",
       "esea_match_13779704.dem  ECO              8\n",
       "                         FORCE_BUY        4\n",
       "                         NORMAL          22\n",
       "                         PISTOL_ROUND     3\n",
       "                         SEMI_ECO         2\n",
       "esea_match_13779769.dem  ECO              6\n",
       "                         FORCE_BUY        3\n",
       "                         NORMAL           9\n",
       "                         PISTOL_ROUND     2\n",
       "                         SEMI_ECO         2\n",
       "dtype: int64"
      ]
     },
     "execution_count": 18,
     "metadata": {},
     "output_type": "execute_result"
    }
   ],
   "source": [
    "round_type_by_game = csgo_data.groupby([\"file\",\"round_type\"]).size()\n",
    "round_type_by_game"
   ]
  }
 ],
 "metadata": {
  "kernelspec": {
   "display_name": "Python 3 (ipykernel)",
   "language": "python",
   "name": "python3"
  },
  "language_info": {
   "codemirror_mode": {
    "name": "ipython",
    "version": 3
   },
   "file_extension": ".py",
   "mimetype": "text/x-python",
   "name": "python",
   "nbconvert_exporter": "python",
   "pygments_lexer": "ipython3",
   "version": "3.9.12"
  }
 },
 "nbformat": 4,
 "nbformat_minor": 5
}
